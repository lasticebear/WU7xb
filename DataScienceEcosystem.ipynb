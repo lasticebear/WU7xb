{
 "cells": [
  {
   "cell_type": "markdown",
   "id": "1c232ac5",
   "metadata": {},
   "source": [
    "# Data Science Tools and Ecosystem"
   ]
  },
  {
   "cell_type": "markdown",
   "id": "5cad8e84",
   "metadata": {},
   "source": [
    "## Introduction\n",
    "In this notebook, Data Science Tools and Ecosystem are summarized."
   ]
  },
  {
   "cell_type": "markdown",
   "id": "f04d16af",
   "metadata": {},
   "source": [
    "## Data Science Languages\n",
    "Some of the popular languages that Data Scientists use are:\n",
    "1. Python\n",
    "2. R\n",
    "3. SQL"
   ]
  },
  {
   "cell_type": "markdown",
   "id": "729766aa",
   "metadata": {},
   "source": [
    "## Data Science Libraries\n",
    "Some of the commonly used libraries used by Data Scientists include:\n",
    "1. Pandas\n",
    "2. NumPy\n",
    "3. Scikit-learn"
   ]
  },
  {
   "cell_type": "markdown",
   "id": "3e5b7313",
   "metadata": {},
   "source": [
    "## Data Science Tools\n",
    "| Data Science Tools |\n",
    "| ------------------ |\n",
    "| TensorFlow         |\n",
    "| Apache Spark       |\n",
    "| MATLAB             |"
   ]
  },
  {
   "cell_type": "markdown",
   "id": "643609e9",
   "metadata": {},
   "source": [
    "## Arithmetic Expression Examples\n",
    "Below are a few examples of evaluating arithmetic expressions in Python."
   ]
  },
  {
   "cell_type": "code",
   "execution_count": null,
   "id": "4a1dceea",
   "metadata": {},
   "outputs": [],
   "source": [
    "# Example: multiply and add numbers\n",
    "(10*4)+5\n",
    "# This simple arithmetic expression to multiply then add integers"
   ]
  },
  {
   "cell_type": "code",
   "execution_count": null,
   "id": "607d9c51",
   "metadata": {},
   "outputs": [],
   "source": [
    "# Example: convert minutes to hours\n",
    "200/60\n",
    "# This will convert 200 minutes to hours by dividing by 60"
   ]
  },
  {
   "cell_type": "markdown",
   "id": "d93706fc",
   "metadata": {},
   "source": [
    "## Objectives\n",
    "In this notebook, we covered the following:\n",
    "- List popular languages for data science\n",
    "- List commonly used libraries in data science\n",
    "- List data science tools"
   ]
  },
  {
   "cell_type": "markdown",
   "id": "25c43ffd",
   "metadata": {},
   "source": [
    "## Author\n",
    "Hanafi Sulaiman"
   ]
  }
 ],
 "metadata": {},
 "nbformat": 4,
 "nbformat_minor": 5
}
